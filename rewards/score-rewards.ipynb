{
 "cells": [
  {
   "cell_type": "code",
   "execution_count": 36,
   "metadata": {},
   "outputs": [
    {
     "name": "stdout",
     "output_type": "stream",
     "text": [
      "\u001b[34m2024-01-11 20:03:00.314\u001b[0m | \u001b[1m      INFO      \u001b[0m | You are connecting to finney network with endpoint wss://entrypoint-finney.opentensor.ai:443.\n",
      "\u001b[34m2024-01-11 20:03:00.314\u001b[0m | \u001b[33m\u001b[1m    WARNING     \u001b[0m | We strongly encourage running a local subtensor node whenever possible. This increases decentralization and resilience of the network.\n",
      "\u001b[34m2024-01-11 20:03:00.314\u001b[0m | \u001b[33m\u001b[1m    WARNING     \u001b[0m | In a future release, local subtensor will become the default endpoint. To get ahead of this change, please run a local subtensor node and point to it.\n",
      "\u001b[34m2024-01-11 20:03:00.810\u001b[0m | \u001b[1m      INFO      \u001b[0m | Connected to finney network and wss://entrypoint-finney.opentensor.ai:443.\n"
     ]
    }
   ],
   "source": [
    "import bittensor as bt\n",
    "\n",
    "subtensor = bt.subtensor()\n",
    "\n",
    "metagraph = subtensor.metagraph(netuid=13)\n",
    "# Need lite=False to get weights\n",
    "metagraph.sync(subtensor=subtensor, lite=False)"
   ]
  },
  {
   "cell_type": "code",
   "execution_count": 43,
   "metadata": {},
   "outputs": [
    {
     "name": "stdout",
     "output_type": "stream",
     "text": [
      "uid 232 : weight 0.030531659722328186\n",
      "uid 190 : weight 0.023539436981081963\n",
      "uid 104 : weight 0.0\n",
      "uid 175 : weight 4.848860953643452e-06\n",
      "uid 145 : weight 0.04132098704576492\n",
      "uid 171 : weight 0.023335451260209084\n",
      "uid 160 : weight 0.009302083402872086\n",
      "uid 139 : weight 0.045908331871032715\n",
      "uid 230 : weight 0.03090544603765011\n",
      "uid 87 : weight 0.042819853872060776\n"
     ]
    }
   ],
   "source": [
    "# Replace 10th with us for data collection\n",
    "top_10_validator_uids = [232, 190, 104, 175, 145, 171, 160, 139, 230, 87]\n",
    "\n",
    "for uid in top_10_validator_uids:\n",
    "    weight = metagraph.weights[uid][88]\n",
    "    print(f\"uid {uid} : weight {weight}\")\n"
   ]
  },
  {
   "cell_type": "code",
   "execution_count": 50,
   "metadata": {},
   "outputs": [
    {
     "name": "stdout",
     "output_type": "stream",
     "text": [
      "uid 208 : weight 0.0005994283128529787\n"
     ]
    }
   ],
   "source": [
    "weight_by_uid = {}\n",
    "for uid, weight in enumerate(metagraph.weights[232]):\n",
    "    weight_by_uid[uid] = weight\n",
    "\n",
    "for uid, weight in sorted(weight_by_uid.items(), key=lambda item: item[1], reverse=True):\n",
    "    if(uid == 208):\n",
    "        print(f\"uid {uid} : weight {weight}\")\n"
   ]
  }
 ],
 "metadata": {
  "kernelspec": {
   "display_name": ".venv",
   "language": "python",
   "name": "python3"
  },
  "language_info": {
   "codemirror_mode": {
    "name": "ipython",
    "version": 3
   },
   "file_extension": ".py",
   "mimetype": "text/x-python",
   "name": "python",
   "nbconvert_exporter": "python",
   "pygments_lexer": "ipython3",
   "version": "3.10.12"
  }
 },
 "nbformat": 4,
 "nbformat_minor": 2
}
