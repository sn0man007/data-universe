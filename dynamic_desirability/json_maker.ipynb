{
 "cells": [
  {
   "cell_type": "code",
   "execution_count": 1,
   "metadata": {},
   "outputs": [
    {
     "data": {
      "application/vnd.jupyter.widget-view+json": {
       "model_id": "47b8f0dec97148a3a156c6cb3a44ee98",
       "version_major": 2,
       "version_minor": 0
      },
      "text/plain": [
       "Dropdown(description='Source:', options=('Reddit', 'X'), value='Reddit')"
      ]
     },
     "metadata": {},
     "output_type": "display_data"
    },
    {
     "data": {
      "application/vnd.jupyter.widget-view+json": {
       "model_id": "0a5250fad3454788aab89e6d85691d6d",
       "version_major": 2,
       "version_minor": 0
      },
      "text/plain": [
       "Text(value='', description='Label:', placeholder='r/...')"
      ]
     },
     "metadata": {},
     "output_type": "display_data"
    },
    {
     "data": {
      "application/vnd.jupyter.widget-view+json": {
       "model_id": "c3f6f1dfa4c34846a15321e154cd9c23",
       "version_major": 2,
       "version_minor": 0
      },
      "text/plain": [
       "FloatText(value=0.1, description='Weight:', step=0.1)"
      ]
     },
     "metadata": {},
     "output_type": "display_data"
    },
    {
     "data": {
      "application/vnd.jupyter.widget-view+json": {
       "model_id": "a844107c834343a48ddb2c537647abef",
       "version_major": 2,
       "version_minor": 0
      },
      "text/plain": [
       "Button(description='Submit', style=ButtonStyle())"
      ]
     },
     "metadata": {},
     "output_type": "display_data"
    },
    {
     "data": {
      "application/vnd.jupyter.widget-view+json": {
       "model_id": "210f5e5cfe3143048b982efaaff5244c",
       "version_major": 2,
       "version_minor": 0
      },
      "text/plain": [
       "Button(description='Finalize', style=ButtonStyle())"
      ]
     },
     "metadata": {},
     "output_type": "display_data"
    },
    {
     "data": {
      "application/vnd.jupyter.widget-view+json": {
       "model_id": "1b149b4c8cc74282b56e04159594b798",
       "version_major": 2,
       "version_minor": 0
      },
      "text/plain": [
       "Output()"
      ]
     },
     "metadata": {},
     "output_type": "display_data"
    }
   ],
   "source": [
    "import ipywidgets as widgets\n",
    "import json\n",
    "from IPython.display import display, clear_output\n",
    "\n",
    "preferences = [\n",
    "    {\"source_name\": \"reddit\", \"label_weights\": {}},\n",
    "    {\"source_name\": \"x\", \"label_weights\": {}}\n",
    "]\n",
    "\n",
    "def validate_label(source, label):\n",
    "    if source == \"Reddit\" and not label.startswith(\"r/\"):\n",
    "        return False\n",
    "    elif source == \"X\" and not label.startswith(\"#\"):\n",
    "        return False\n",
    "    return True\n",
    "\n",
    "def validate_weight(weight, new_source, new_label):\n",
    "    try:\n",
    "        weight = float(weight)\n",
    "        if 0.1 <= weight <= 1 and round(weight * 10) == weight * 10:\n",
    "            # Calculate total weight across both sources.\n",
    "            total_weight = sum(sum(source[\"label_weights\"].values()) for source in preferences)\n",
    "            \n",
    "            # If we're updating an existing label, subtract its current weight.\n",
    "            source_dict = next(s for s in preferences if s[\"source_name\"] == new_source)\n",
    "            if new_label in source_dict[\"label_weights\"]:\n",
    "                total_weight -= source_dict[\"label_weights\"][new_label]\n",
    "            \n",
    "            # Check if adding the new weight keeps the total <= 1.\n",
    "            if total_weight + weight <= 1:\n",
    "                return True\n",
    "    except ValueError:\n",
    "        pass\n",
    "    return False\n",
    "\n",
    "def update_output(change):\n",
    "    source = source_dropdown.value\n",
    "    if source == \"Reddit\":\n",
    "        label_input.placeholder = \"r/...\"\n",
    "    else:\n",
    "        label_input.placeholder = \"#...\"\n",
    "\n",
    "def on_submit(b):\n",
    "    source = source_dropdown.value.lower()\n",
    "    label = label_input.value\n",
    "    weight = weight_input.value\n",
    "    \n",
    "    if not validate_label(source_dropdown.value, label):\n",
    "        output.clear_output()\n",
    "        with output:\n",
    "            print(f\"Invalid label format for {source}. Please try again.\")\n",
    "        return\n",
    "    \n",
    "    if not validate_weight(weight, source, label):\n",
    "        output.clear_output()\n",
    "        with output:\n",
    "            print(f\"Invalid weight. Please enter a number between 0.1 and 1, divisible by 0.1, and ensure total weights across all sources don't exceed 1.\")\n",
    "        return\n",
    "    \n",
    "    weight = float(weight)\n",
    "    source_dict = next(s for s in preferences if s[\"source_name\"] == source)\n",
    "    source_dict[\"label_weights\"][label] = weight\n",
    "    \n",
    "    output.clear_output()\n",
    "    with output:\n",
    "        print(f\"Added: {label} with weight {weight} for {source}\")\n",
    "        print(\"\\nCurrent preferences:\")\n",
    "        print(json.dumps([s for s in preferences if s[\"label_weights\"]], indent=2))\n",
    "        \n",
    "        # Display total weight across all sources.\n",
    "        total_weight = sum(sum(source[\"label_weights\"].values()) for source in preferences)\n",
    "        print(f\"\\nTotal weight across all sources: {total_weight:.1f}\")\n",
    "\n",
    "def on_finalize(b):\n",
    "    # Filter out sources with empty label_weights.\n",
    "    final_preferences = [s for s in preferences if s[\"label_weights\"]]\n",
    "    \n",
    "    with open('my_preferences.json', 'w') as f:\n",
    "        json.dump(final_preferences, f, indent=4)\n",
    "    \n",
    "    output.clear_output()\n",
    "    with output:\n",
    "        print(\"Preferences saved to my_preferences.json:\")\n",
    "        print(json.dumps(final_preferences, indent=2))\n",
    "\n",
    "source_dropdown = widgets.Dropdown(options=['Reddit', 'X'], description='Source:')\n",
    "label_input = widgets.Text(placeholder='r/...', description='Label:')\n",
    "weight_input = widgets.FloatText(value=0.1, step=0.1, description='Weight:')\n",
    "submit_button = widgets.Button(description='Submit')\n",
    "finalize_button = widgets.Button(description='Finalize')\n",
    "output = widgets.Output()\n",
    "\n",
    "source_dropdown.observe(update_output, names='value')\n",
    "submit_button.on_click(on_submit)\n",
    "finalize_button.on_click(on_finalize)\n",
    "\n",
    "display(source_dropdown, label_input, weight_input, submit_button, finalize_button, output)"
   ]
  }
 ],
 "metadata": {
  "kernelspec": {
   "display_name": ".venv",
   "language": "python",
   "name": "python3"
  },
  "language_info": {
   "codemirror_mode": {
    "name": "ipython",
    "version": 3
   },
   "file_extension": ".py",
   "mimetype": "text/x-python",
   "name": "python",
   "nbconvert_exporter": "python",
   "pygments_lexer": "ipython3",
   "version": "3.12.4"
  }
 },
 "nbformat": 4,
 "nbformat_minor": 2
}
